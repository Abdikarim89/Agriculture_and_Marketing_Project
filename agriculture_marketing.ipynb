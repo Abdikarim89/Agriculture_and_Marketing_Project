{
 "cells": [
  {
   "cell_type": "markdown",
   "metadata": {},
   "source": [
    "# **AUTHOR**\n",
    "\n",
    "Follow me on Twitter 🐦, and check out my GitHub 🐙. You won't be disappointed!\n",
    "\n",
    "👉 Twitter: https://x.com/Kingkhadi101?t=GxMGI05KhqpKXyCA__7OSA&s=09\n",
    "\n",
    "👉 GitHub: https://github.com/Abdikarim89"
   ]
  },
  {
   "cell_type": "markdown",
   "metadata": {},
   "source": [
    "# **Agriculture And Market Data Aanalytics Project**"
   ]
  },
  {
   "cell_type": "markdown",
   "metadata": {},
   "source": [
    "<img src=\"AgriPicture.jpeg\" alt=\"Image\" width=\"1000\" height=\"400\">"
   ]
  },
  {
   "cell_type": "markdown",
   "metadata": {},
   "source": [
    "# **Data Understanding:**\n",
    "\n",
    "Features in the Dataset:\n",
    "- **Date:** The date when the data was recorded.\n",
    "- **Location:** The location in Somalia where the agricultural data was collected.\n",
    "- **Crop:** The type of crop being cultivated or traded.\n",
    "- **Quantity (kg):** The quantity of the crop in kilograms.\n",
    "- **Price ($):** The price of the crop in US dollars.\n",
    "- **Market Name:** The name of the market where the crop is traded.\n",
    "- **Demand:** A categorical assessment of demand, classified as \"Low,\" \"Medium,\" or \"High.\"\n",
    "- **Supply:** A categorical assessment of supply, classified as \"Low,\" \"Medium,\" or \"High.\"\n",
    "- **Weather (Temperature):** The temperature in degrees Celsius during data collection.\n",
    "- **Weather (Precipitation):** The amount of precipitation in millimeters.\n",
    "- **Humidity:** The humidity percentage at the time of data collection."
   ]
  },
  {
   "cell_type": "markdown",
   "metadata": {},
   "source": [
    "# **Business Relevance**\n",
    "The provided dataset holds substantial importance for the Food and Agriculture Organization (FAO) in its mission to enhance food security and agricultural sustainability in Somalia. Several aspects of the dataset directly align with FAO's objectives and the specific challenges it faces:\n",
    "\n",
    "**1. Food Security Assessment:**\n",
    "\n",
    "- Crop Production Data: The dataset contains information on the quantities of various crops produced. Analyzing this data can assist FAO in assessing the food security situation by identifying regions with significant crop yields and those with production shortfalls.\n",
    "\n",
    "**2. Price Volatility Management:**\n",
    "\n",
    "- Price Data: With price information for different crops, FAO can track price fluctuations. This is vital for managing price volatility and ensuring food affordability for the population, especially during economic or environmental stress.\n",
    "\n",
    "**3. Balancing Supply and Demand:**\n",
    "\n",
    "- Demand and Supply Metrics: By categorizing regions based on demand and supply levels, FAO can identify areas with potential food shortages or surpluses, enabling proactive interventions to balance supply and demand.\n",
    "\n",
    "**4. Weather-Related Risks:**\n",
    "\n",
    "- Weather Data: The dataset includes temperature and precipitation information. FAO can use this data to assess the impact of weather-related risks on crop production and food security, supporting the development of early warning systems and risk mitigation strategies.\n",
    "\n",
    "**5. Data Quality and Reporting:**\n",
    "\n",
    "- Data Quality: Ensuring the accuracy of data is crucial. FAO can utilize this dataset to validate and enhance its data quality and reporting mechanisms to avoid misguided policies and actions.\n",
    "\n",
    "**6. Efficient Reporting:**\n",
    "\n",
    "- Data Analysis: The dataset allows for the generation of regular reports on agriculture and market trends, ensuring that these reports are accurate, timely, and informative. Stakeholders and policymakers benefit from these insights for informed decision-making.\n",
    "\n",
    "**7. Regional Comparisons:**\n",
    "\n",
    "- Regional Insights: By comparing the performance of different regions in terms of agriculture and market dynamics, FAO can identify areas needing targeted interventions and allocate resources effectively.\n",
    "\n",
    "**8. Resource Allocation:**\n",
    "\n",
    "- Optimal Resource Allocation: The dataset supports the optimization of resource allocation, which includes financial, manpower, and logistical support, to maximize the impact of food security and agriculture programs.\n",
    "\n",
    "**9. Risk Mitigation:**\n",
    "\n",
    "- Developing Strategies: FAO can develop strategies to mitigate risks in agriculture, such as pest outbreaks, and implement policies to support farmers and ensure stable food production.\n",
    "\n",
    "In conclusion, this dataset offers a comprehensive foundation for addressing key challenges and objectives set forth by the FAO, making it an invaluable resource in FAO's mission to improve food security and agricultural sustainability in Somalia."
   ]
  },
  {
   "cell_type": "markdown",
   "metadata": {},
   "source": [
    "## Business Problems\n",
    " FAO aims to improve food security and agricultural sustainability in Somalia. To achieve this goal, the organization faces several challenges and needs to make informed decisions. These challenges include:\n",
    "\n",
    "- Food Security Assessment: Assessing and addressing the food security situation in Somalia, which involves monitoring crop production, market dynamics, and the availability and affordability of essential food items.\n",
    "\n",
    "- Price Volatility Management: Understanding and managing price fluctuations for key agricultural products to ensure that food remains affordable for the population, especially during times of economic or environmental stress.\n",
    "\n",
    "- Balancing Supply and Demand: Ensuring that the supply of agricultural products meets the demand, preventing food shortages or surpluses that can lead to market instability and food insecurity.\n",
    "\n",
    "- Weather-Related Risks: Managing the impact of weather-related risks, such as droughts or floods, on crop production and food security. This includes early warning systems to mitigate risks.\n",
    "\n",
    "- Data Quality and Reporting: Ensuring the accuracy and reliability of data used for reporting and decision-making, as inaccurate data can lead to misguided policies and actions.\n",
    "\n",
    "- Efficient Reporting: Preparing regular reports on agriculture and market trends that are accurate, timely, and informative for stakeholders and policymakers.\n",
    "\n",
    "- Regional Comparisons: Comparing the performance of different regions in terms of agriculture and market dynamics to identify areas that need targeted interventions or resources.\n",
    "\n",
    "- Resource Allocation: Optimizing the allocation of resources, including financial, manpower, and logistical support, to maximize the impact of food security and agriculture programs.\n",
    "\n",
    "- Risk Mitigation: Developing strategies to mitigate risks in agriculture, such as pest outbreaks, and implementing policies to support farmers and ensure stable food production."
   ]
  },
  {
   "cell_type": "markdown",
   "metadata": {},
   "source": [
    "### Importing relevant python packages"
   ]
  },
  {
   "cell_type": "code",
   "execution_count": 1,
   "metadata": {},
   "outputs": [],
   "source": [
    "import pandas as pd\n",
    "import matplotlib.pyplot as plt\n",
    "import seaborn as sns\n",
    "import numpy as np\n",
    "import warnings\n",
    "warnings.filterwarnings('ignore')"
   ]
  },
  {
   "cell_type": "markdown",
   "metadata": {},
   "source": [
    "### Loading the data and preparing the first 10 rows of the dataframe"
   ]
  },
  {
   "cell_type": "code",
   "execution_count": 2,
   "metadata": {},
   "outputs": [
    {
     "data": {
      "text/html": [
       "<div>\n",
       "<style scoped>\n",
       "    .dataframe tbody tr th:only-of-type {\n",
       "        vertical-align: middle;\n",
       "    }\n",
       "\n",
       "    .dataframe tbody tr th {\n",
       "        vertical-align: top;\n",
       "    }\n",
       "\n",
       "    .dataframe thead th {\n",
       "        text-align: right;\n",
       "    }\n",
       "</style>\n",
       "<table border=\"1\" class=\"dataframe\">\n",
       "  <thead>\n",
       "    <tr style=\"text-align: right;\">\n",
       "      <th></th>\n",
       "      <th>Date</th>\n",
       "      <th>Location</th>\n",
       "      <th>Crop</th>\n",
       "      <th>Quantity (kg)</th>\n",
       "      <th>Price ($)</th>\n",
       "      <th>Market Name</th>\n",
       "      <th>Demand</th>\n",
       "      <th>Supply</th>\n",
       "      <th>Weather (Temperature)</th>\n",
       "      <th>Weather (Precipitation)</th>\n",
       "      <th>humidity</th>\n",
       "    </tr>\n",
       "  </thead>\n",
       "  <tbody>\n",
       "    <tr>\n",
       "      <th>0</th>\n",
       "      <td>1/1/2023</td>\n",
       "      <td>Mogadishu</td>\n",
       "      <td>Maize</td>\n",
       "      <td>1000</td>\n",
       "      <td>0.75</td>\n",
       "      <td>Central</td>\n",
       "      <td>High</td>\n",
       "      <td>Medium</td>\n",
       "      <td>30°C</td>\n",
       "      <td>0.5 mm</td>\n",
       "      <td>82.002744</td>\n",
       "    </tr>\n",
       "    <tr>\n",
       "      <th>1</th>\n",
       "      <td>1/2/2023</td>\n",
       "      <td>Hargeisa</td>\n",
       "      <td>Sorghum</td>\n",
       "      <td>800</td>\n",
       "      <td>0.60</td>\n",
       "      <td>Western</td>\n",
       "      <td>Medium</td>\n",
       "      <td>Medium</td>\n",
       "      <td>32°C</td>\n",
       "      <td>0.2 mm</td>\n",
       "      <td>80.319644</td>\n",
       "    </tr>\n",
       "    <tr>\n",
       "      <th>2</th>\n",
       "      <td>1/3/2023</td>\n",
       "      <td>Kismayo</td>\n",
       "      <td>Rice</td>\n",
       "      <td>1200</td>\n",
       "      <td>0.90</td>\n",
       "      <td>Southern</td>\n",
       "      <td>High</td>\n",
       "      <td>High</td>\n",
       "      <td>28°C</td>\n",
       "      <td>1.0 mm</td>\n",
       "      <td>82.320763</td>\n",
       "    </tr>\n",
       "    <tr>\n",
       "      <th>3</th>\n",
       "      <td>1/4/2023</td>\n",
       "      <td>Baidoa</td>\n",
       "      <td>Wheat</td>\n",
       "      <td>600</td>\n",
       "      <td>0.70</td>\n",
       "      <td>Central</td>\n",
       "      <td>Medium</td>\n",
       "      <td>Low</td>\n",
       "      <td>29°C</td>\n",
       "      <td>0.3 mm</td>\n",
       "      <td>80.158363</td>\n",
       "    </tr>\n",
       "    <tr>\n",
       "      <th>4</th>\n",
       "      <td>1/5/2023</td>\n",
       "      <td>Garowe</td>\n",
       "      <td>Barley</td>\n",
       "      <td>500</td>\n",
       "      <td>0.55</td>\n",
       "      <td>Eastern</td>\n",
       "      <td>Low</td>\n",
       "      <td>Low</td>\n",
       "      <td>31°C</td>\n",
       "      <td>0.1 mm</td>\n",
       "      <td>81.604873</td>\n",
       "    </tr>\n",
       "    <tr>\n",
       "      <th>5</th>\n",
       "      <td>1/6/2023</td>\n",
       "      <td>Berbera</td>\n",
       "      <td>Millet</td>\n",
       "      <td>700</td>\n",
       "      <td>0.65</td>\n",
       "      <td>Western</td>\n",
       "      <td>High</td>\n",
       "      <td>Medium</td>\n",
       "      <td>30°C</td>\n",
       "      <td>0.4 mm</td>\n",
       "      <td>66.413269</td>\n",
       "    </tr>\n",
       "    <tr>\n",
       "      <th>6</th>\n",
       "      <td>1/7/2023</td>\n",
       "      <td>Bosaso</td>\n",
       "      <td>Corn</td>\n",
       "      <td>900</td>\n",
       "      <td>0.80</td>\n",
       "      <td>Eastern</td>\n",
       "      <td>Medium</td>\n",
       "      <td>High</td>\n",
       "      <td>32°C</td>\n",
       "      <td>0.2 mm</td>\n",
       "      <td>56.636362</td>\n",
       "    </tr>\n",
       "    <tr>\n",
       "      <th>7</th>\n",
       "      <td>1/8/2023</td>\n",
       "      <td>Beledweyne</td>\n",
       "      <td>Teff</td>\n",
       "      <td>400</td>\n",
       "      <td>0.50</td>\n",
       "      <td>Central</td>\n",
       "      <td>Low</td>\n",
       "      <td>Low</td>\n",
       "      <td>27°C</td>\n",
       "      <td>0.3 mm</td>\n",
       "      <td>67.225123</td>\n",
       "    </tr>\n",
       "    <tr>\n",
       "      <th>8</th>\n",
       "      <td>1/9/2023</td>\n",
       "      <td>Jowhar</td>\n",
       "      <td>Sesame</td>\n",
       "      <td>800</td>\n",
       "      <td>1.10</td>\n",
       "      <td>Central</td>\n",
       "      <td>High</td>\n",
       "      <td>Medium</td>\n",
       "      <td>29°C</td>\n",
       "      <td>0.6 mm</td>\n",
       "      <td>52.127394</td>\n",
       "    </tr>\n",
       "    <tr>\n",
       "      <th>9</th>\n",
       "      <td>1/10/202</td>\n",
       "      <td>Marka</td>\n",
       "      <td>Sunflower</td>\n",
       "      <td>300</td>\n",
       "      <td>0.45</td>\n",
       "      <td>Southern</td>\n",
       "      <td>Low</td>\n",
       "      <td>Low</td>\n",
       "      <td>28°C</td>\n",
       "      <td>0.1 mm</td>\n",
       "      <td>60.396475</td>\n",
       "    </tr>\n",
       "  </tbody>\n",
       "</table>\n",
       "</div>"
      ],
      "text/plain": [
       "       Date    Location       Crop  Quantity (kg)  Price ($) Market Name  \\\n",
       "0  1/1/2023   Mogadishu      Maize           1000       0.75     Central   \n",
       "1  1/2/2023    Hargeisa    Sorghum            800       0.60     Western   \n",
       "2  1/3/2023     Kismayo       Rice           1200       0.90    Southern   \n",
       "3  1/4/2023      Baidoa      Wheat            600       0.70     Central   \n",
       "4  1/5/2023      Garowe     Barley            500       0.55     Eastern   \n",
       "5  1/6/2023     Berbera     Millet            700       0.65     Western   \n",
       "6  1/7/2023      Bosaso       Corn            900       0.80     Eastern   \n",
       "7  1/8/2023  Beledweyne       Teff            400       0.50     Central   \n",
       "8  1/9/2023      Jowhar     Sesame            800       1.10     Central   \n",
       "9  1/10/202       Marka  Sunflower            300       0.45    Southern   \n",
       "\n",
       "   Demand  Supply Weather (Temperature) Weather (Precipitation)   humidity  \n",
       "0    High  Medium                  30°C                  0.5 mm  82.002744  \n",
       "1  Medium  Medium                  32°C                  0.2 mm  80.319644  \n",
       "2    High    High                  28°C                  1.0 mm  82.320763  \n",
       "3  Medium     Low                  29°C                  0.3 mm  80.158363  \n",
       "4     Low     Low                  31°C                  0.1 mm  81.604873  \n",
       "5    High  Medium                  30°C                  0.4 mm  66.413269  \n",
       "6  Medium    High                  32°C                  0.2 mm  56.636362  \n",
       "7     Low     Low                  27°C                  0.3 mm  67.225123  \n",
       "8    High  Medium                  29°C                  0.6 mm  52.127394  \n",
       "9     Low     Low                  28°C                  0.1 mm  60.396475  "
      ]
     },
     "execution_count": 2,
     "metadata": {},
     "output_type": "execute_result"
    }
   ],
   "source": [
    "data = pd.read_csv('C:/Users/LENOVO/Desktop/FAO Project/Agriculuture1.csv', parse_dates=['Date'])\n",
    "data.head(10)"
   ]
  },
  {
   "cell_type": "markdown",
   "metadata": {},
   "source": [
    "### Data Understanding and Cleaning "
   ]
  },
  {
   "cell_type": "code",
   "execution_count": 3,
   "metadata": {},
   "outputs": [
    {
     "data": {
      "text/plain": [
       "(10, 11)"
      ]
     },
     "execution_count": 3,
     "metadata": {},
     "output_type": "execute_result"
    }
   ],
   "source": [
    "data.shape"
   ]
  },
  {
   "cell_type": "code",
   "execution_count": 4,
   "metadata": {},
   "outputs": [
    {
     "data": {
      "text/plain": [
       "Index(['Date', 'Location', 'Crop', 'Quantity (kg)', 'Price ($)', 'Market Name',\n",
       "       'Demand', 'Supply', 'Weather (Temperature)', 'Weather (Precipitation)',\n",
       "       'humidity'],\n",
       "      dtype='object')"
      ]
     },
     "execution_count": 4,
     "metadata": {},
     "output_type": "execute_result"
    }
   ],
   "source": [
    "data.columns"
   ]
  },
  {
   "cell_type": "code",
   "execution_count": 5,
   "metadata": {},
   "outputs": [
    {
     "data": {
      "text/plain": [
       "110"
      ]
     },
     "execution_count": 5,
     "metadata": {},
     "output_type": "execute_result"
    }
   ],
   "source": [
    "data.size"
   ]
  },
  {
   "cell_type": "code",
   "execution_count": 6,
   "metadata": {},
   "outputs": [
    {
     "data": {
      "text/plain": [
       "array(['Maize', 'Sorghum', 'Rice', 'Wheat', 'Barley', 'Millet', 'Corn',\n",
       "       'Teff', 'Sesame', 'Sunflower'], dtype=object)"
      ]
     },
     "execution_count": 6,
     "metadata": {},
     "output_type": "execute_result"
    }
   ],
   "source": [
    "data['Crop'].unique()"
   ]
  },
  {
   "cell_type": "code",
   "execution_count": 7,
   "metadata": {},
   "outputs": [
    {
     "data": {
      "text/plain": [
       "Date                        object\n",
       "Location                    object\n",
       "Crop                        object\n",
       "Quantity (kg)                int64\n",
       "Price ($)                  float64\n",
       "Market Name                 object\n",
       "Demand                      object\n",
       "Supply                      object\n",
       "Weather (Temperature)       object\n",
       "Weather (Precipitation)     object\n",
       "humidity                   float64\n",
       "dtype: object"
      ]
     },
     "execution_count": 7,
     "metadata": {},
     "output_type": "execute_result"
    }
   ],
   "source": [
    "data.dtypes"
   ]
  },
  {
   "cell_type": "code",
   "execution_count": 8,
   "metadata": {},
   "outputs": [
    {
     "data": {
      "text/plain": [
       "Crop\n",
       "Maize        1\n",
       "Sorghum      1\n",
       "Rice         1\n",
       "Wheat        1\n",
       "Barley       1\n",
       "Millet       1\n",
       "Corn         1\n",
       "Teff         1\n",
       "Sesame       1\n",
       "Sunflower    1\n",
       "Name: count, dtype: int64"
      ]
     },
     "execution_count": 8,
     "metadata": {},
     "output_type": "execute_result"
    }
   ],
   "source": [
    "data['Crop'].value_counts()"
   ]
  },
  {
   "cell_type": "code",
   "execution_count": 9,
   "metadata": {},
   "outputs": [
    {
     "data": {
      "text/plain": [
       "<Axes: >"
      ]
     },
     "execution_count": 9,
     "metadata": {},
     "output_type": "execute_result"
    },
    {
     "data": {
      "image/png": "[encoded data removed]",
      "text/plain": [
       "<Figure size 640x480 with 2 Axes>"
      ]
     },
     "metadata": {},
     "output_type": "display_data"
    }
   ],
   "source": [
    "numeric_data = data.select_dtypes(include='number')  \n",
    "correlation_matrix = numeric_data.corr()  \n",
    "sns.heatmap(correlation_matrix, annot=True)"
   ]
  },
  {
   "cell_type": "markdown",
   "metadata": {},
   "source": [
    "The heatmap above shows the correlation coefficients between \"Quantity,\" \"Price,\" and \"Humidity.\" Here are some insights we can share based on this heatmap:\n",
    "\n",
    "- Positive Correlation between Quantity and Price: The correlation coefficient of 0.72 between \"Quantity\" and \"Price\" indicates a strong positive correlation. This suggests that as the quantity of crops produced increases, the price tends to increase as well. It's important for stakeholders to consider this positive relationship when making pricing and production decisions.\n",
    "\n",
    "- Weak Negative Correlation between Price and Humidity: The correlation coefficient of -0.24 between \"Price\" and \"Humidity\" suggests a weak negative correlation. While not very strong, this implies that higher humidity levels may be associated with slightly lower prices. Understanding this relationship can help in pricing strategies, especially in regions where humidity levels vary.\n",
    "\n",
    "- Weak Positive Correlation between Quantity and Humidity: The correlation coefficient of 0.25 between \"Quantity\" and \"Humidity\" indicates a weak positive correlation. This suggests that higher humidity may have a slight positive effect on crop quantity. However, other factors likely play a more significant role in determining crop yields.\n",
    "\n",
    "In summary, the heatmap provides insights into the relationships between these three variables, which can be valuable for decision-making in agriculture and marketing. It's essential to consider these correlations when planning crop production and pricing strategies, especially in regions where these factors come into play."
   ]
  },
  {
   "cell_type": "markdown",
   "metadata": {},
   "source": [
    "### Check Missing Values and duplicates"
   ]
  },
  {
   "cell_type": "code",
   "execution_count": 10,
   "metadata": {},
   "outputs": [
    {
     "data": {
      "text/plain": [
       "Date                       0\n",
       "Location                   0\n",
       "Crop                       0\n",
       "Quantity (kg)              0\n",
       "Price ($)                  0\n",
       "Market Name                0\n",
       "Demand                     0\n",
       "Supply                     0\n",
       "Weather (Temperature)      0\n",
       "Weather (Precipitation)    0\n",
       "humidity                   0\n",
       "dtype: int64"
      ]
     },
     "execution_count": 10,
     "metadata": {},
     "output_type": "execute_result"
    }
   ],
   "source": [
    "# Check for missing values:\n",
    "data.isnull().sum()"
   ]
  },
  {
   "cell_type": "code",
   "execution_count": 11,
   "metadata": {},
   "outputs": [
    {
     "data": {
      "text/plain": [
       "0"
      ]
     },
     "execution_count": 11,
     "metadata": {},
     "output_type": "execute_result"
    }
   ],
   "source": [
    "data.duplicated().sum()"
   ]
  },
  {
   "cell_type": "markdown",
   "metadata": {},
   "source": [
    "- The dataset is exceptionally clean, with no missing values or duplicate entries. It is well-prepared for analysis, ensuring the reliability of the results."
   ]
  },
  {
   "cell_type": "markdown",
   "metadata": {},
   "source": [
    "### Explanatory Data Analysis (EDA)"
   ]
  },
  {
   "cell_type": "markdown",
   "metadata": {},
   "source": [
    "#### Data Exploration"
   ]
  },
  {
   "cell_type": "code",
   "execution_count": 12,
   "metadata": {},
   "outputs": [
    {
     "data": {
      "text/html": [
       "<div>\n",
       "<style scoped>\n",
       "    .dataframe tbody tr th:only-of-type {\n",
       "        vertical-align: middle;\n",
       "    }\n",
       "\n",
       "    .dataframe tbody tr th {\n",
       "        vertical-align: top;\n",
       "    }\n",
       "\n",
       "    .dataframe thead th {\n",
       "        text-align: right;\n",
       "    }\n",
       "</style>\n",
       "<table border=\"1\" class=\"dataframe\">\n",
       "  <thead>\n",
       "    <tr style=\"text-align: right;\">\n",
       "      <th></th>\n",
       "      <th>Quantity (kg)</th>\n",
       "      <th>Price ($)</th>\n",
       "      <th>humidity</th>\n",
       "    </tr>\n",
       "  </thead>\n",
       "  <tbody>\n",
       "    <tr>\n",
       "      <th>count</th>\n",
       "      <td>10.000000</td>\n",
       "      <td>10.000000</td>\n",
       "      <td>10.000000</td>\n",
       "    </tr>\n",
       "    <tr>\n",
       "      <th>mean</th>\n",
       "      <td>720.000000</td>\n",
       "      <td>0.700000</td>\n",
       "      <td>70.920501</td>\n",
       "    </tr>\n",
       "    <tr>\n",
       "      <th>std</th>\n",
       "      <td>278.088715</td>\n",
       "      <td>0.197203</td>\n",
       "      <td>11.750005</td>\n",
       "    </tr>\n",
       "    <tr>\n",
       "      <th>min</th>\n",
       "      <td>300.000000</td>\n",
       "      <td>0.450000</td>\n",
       "      <td>52.127394</td>\n",
       "    </tr>\n",
       "    <tr>\n",
       "      <th>25%</th>\n",
       "      <td>525.000000</td>\n",
       "      <td>0.562500</td>\n",
       "      <td>61.900674</td>\n",
       "    </tr>\n",
       "    <tr>\n",
       "      <th>50%</th>\n",
       "      <td>750.000000</td>\n",
       "      <td>0.675000</td>\n",
       "      <td>73.691743</td>\n",
       "    </tr>\n",
       "    <tr>\n",
       "      <th>75%</th>\n",
       "      <td>875.000000</td>\n",
       "      <td>0.787500</td>\n",
       "      <td>81.283566</td>\n",
       "    </tr>\n",
       "    <tr>\n",
       "      <th>max</th>\n",
       "      <td>1200.000000</td>\n",
       "      <td>1.100000</td>\n",
       "      <td>82.320763</td>\n",
       "    </tr>\n",
       "  </tbody>\n",
       "</table>\n",
       "</div>"
      ],
      "text/plain": [
       "       Quantity (kg)  Price ($)   humidity\n",
       "count      10.000000  10.000000  10.000000\n",
       "mean      720.000000   0.700000  70.920501\n",
       "std       278.088715   0.197203  11.750005\n",
       "min       300.000000   0.450000  52.127394\n",
       "25%       525.000000   0.562500  61.900674\n",
       "50%       750.000000   0.675000  73.691743\n",
       "75%       875.000000   0.787500  81.283566\n",
       "max      1200.000000   1.100000  82.320763"
      ]
     },
     "execution_count": 12,
     "metadata": {},
     "output_type": "execute_result"
    }
   ],
   "source": [
    "data.describe()"
   ]
  },
  {
   "cell_type": "markdown",
   "metadata": {},
   "source": [
    "The describe() function provides summary statistics for the numeric columns in your DataFrame, such as \"Quantity (kg)\" and \"Price ($)\". Here are the statistics for these columns:\n",
    "\n",
    "**1. Quantity (kg):**\n",
    "\n",
    "- Count: 10.000 (total number of data points)\n",
    "- Mean: 720.000 (average quantity in kilograms)\n",
    "- Standard Deviation (std): 278.088715 (a measure of the spread or variability of the data)\n",
    "- Minimum (min): 300.000 (the smallest quantity recorded)\n",
    "- 25th Percentile (25%): 525.000 (25% of the data is below this value)\n",
    "- Median (50%): 750.000 (the middle value, separating the higher and lower halves of the data)\n",
    "- 75th Percentile (75%): 875.000 (75% of the data is below this value)\n",
    "- Maximum (max): 1200.000 (the largest quantity recorded)\n",
    "\n",
    "**2. Price ($):**\n",
    "\n",
    "- Count: 10.000 (total number of data points)\n",
    "- Mean: 0.700 (average price in dollars)\n",
    "- Standard Deviation (std): 0.197203 (a measure of the spread or variability of the data)\n",
    "- Minimum (min): 0.450 (the lowest price recorded)\n",
    "- 25th Percentile (25%): 0.5625 (25% of the data is below this value)\n",
    "- Median (50%): 0.675 (the middle value, separating the higher and lower halves of the data)\n",
    "- 75th Percentile (75%): 0.7875 (75% of the data is below this value)\n",
    "- Maximum (max): 1.100 (the highest price recorded)\n",
    "\n",
    "These statistics give you an understanding of the central tendency, variability, and distribution of the data for each numeric column in your DataFrame. For example, you can see the range of quantities and prices, as well as their average and typical values.\n",
    "\n"
   ]
  },
  {
   "cell_type": "code",
   "execution_count": 13,
   "metadata": {},
   "outputs": [
    {
     "name": "stdout",
     "output_type": "stream",
     "text": [
      "<class 'pandas.core.frame.DataFrame'>\n",
      "RangeIndex: 10 entries, 0 to 9\n",
      "Data columns (total 11 columns):\n",
      " #   Column                   Non-Null Count  Dtype  \n",
      "---  ------                   --------------  -----  \n",
      " 0   Date                     10 non-null     object \n",
      " 1   Location                 10 non-null     object \n",
      " 2   Crop                     10 non-null     object \n",
      " 3   Quantity (kg)            10 non-null     int64  \n",
      " 4   Price ($)                10 non-null     float64\n",
      " 5   Market Name              10 non-null     object \n",
      " 6   Demand                   10 non-null     object \n",
      " 7   Supply                   10 non-null     object \n",
      " 8   Weather (Temperature)    10 non-null     object \n",
      " 9   Weather (Precipitation)  10 non-null     object \n",
      " 10  humidity                 10 non-null     float64\n",
      "dtypes: float64(2), int64(1), object(8)\n",
      "memory usage: 1012.0+ bytes\n"
     ]
    }
   ],
   "source": [
    "data.info()"
   ]
  },
  {
   "cell_type": "markdown",
   "metadata": {},
   "source": [
    "The info() method provides an overview of the DataFrame's characteristics:\n",
    "\n",
    "- RangeIndex: This indicates that the DataFrame has 10 rows with index values ranging from 0 to 9.\n",
    "\n",
    "- Data columns: The DataFrame contains a total of 10 columns.\n",
    "\n",
    "- Non-Null Count: It shows the number of non-null (non-missing) values for each column. All columns have 10 non-null values, indicating there are no missing data points.\n",
    "\n",
    "- Dtype: It specifies the data type of each column. In this DataFrame:\n",
    "     - 1 column is of type float64 (numeric).\n",
    "    - 1 column is of type int64 (numeric).\n",
    "    - 8 columns are of type object, typically representing strings or mixed data types.\n",
    "- Memory usage: It displays the memory usage of the DataFrame. In this case, the DataFrame uses approximately 932 bytes of memory.\n",
    "\n",
    "Overall, the info() method provides essential information about the structure and data types of the DataFrame, as well as the presence of missing values."
   ]
  },
  {
   "cell_type": "markdown",
   "metadata": {},
   "source": [
    "### Solving Business Problems"
   ]
  },
  {
   "cell_type": "markdown",
   "metadata": {},
   "source": [
    "**Problem 1: Crop Production and Food Security**\n",
    "- Analyze crop production quantities and trends over time.\n",
    "- Identify regions at risk of food shortages by looking for declining crop yields or production surpluses.\n",
    "- Visualize the trends and regions using matplotlib, plotly, or seaborn."
   ]
  },
  {
   "cell_type": "code",
   "execution_count": 14,
   "metadata": {},
   "outputs": [
    {
     "data": {
      "image/png": "[encoded data removed]",
      "text/plain": [
       "<Figure size 1200x600 with 1 Axes>"
      ]
     },
     "metadata": {},
     "output_type": "display_data"
    }
   ],
   "source": [
    "# Analyze crop production quantities and trends\n",
    "crop_production_trends = data.groupby('Crop')['Quantity (kg)'].sum().reset_index()\n",
    "\n",
    "# Identify regions at risk of food shortages\n",
    "# We can set a threshold for low crop production and identify regions with production below that threshold.\n",
    "\n",
    "# Step 4: Visualize the trends and regions\n",
    "plt.figure(figsize=(12, 6))\n",
    "plt.bar(crop_production_trends['Crop'], crop_production_trends['Quantity (kg)'])\n",
    "plt.xlabel('Crop')\n",
    "plt.ylabel('Total Production (kg)')\n",
    "plt.title('Crop Production Quantities')\n",
    "plt.xticks(rotation=45)\n",
    "plt.show()"
   ]
  },
  {
   "cell_type": "markdown",
   "metadata": {},
   "source": [
    "Based on the above visualization crop production quantities, here are some insights I can share:\n",
    "\n",
    "- Rice Dominates Production: Rice is the top crop produced with a quantity of 1200 kilograms. This suggests that rice farming is a significant agricultural activity in the region, and it may have a high demand in the local market.\n",
    "\n",
    "- Maize and Corn Are Key Crops: Maize and corn are also important crops, with production quantities of 1000 kilograms and 900 kilograms, respectively. These grains are likely staples in the local diet and have substantial production.\n",
    "\n",
    "- Sesame and Sorghum Equal in Production: Sesame and sorghum both have production quantities of 800 kilograms. These crops might be of similar importance to the local agriculture sector.\n",
    "\n",
    "- Sunflower Has Lower Production: Sunflower has the lowest production among the crops, with a quantity of 300 kilograms. This suggests that sunflower farming might be less common or less profitable in the region compared to the other crops.\n",
    "\n",
    "- Diverse Crop Portfolio: The data indicates a diverse range of crops being cultivated, which can be beneficial for local food security and economic stability. It also suggests that farmers are engaged in multiple crop types.\n",
    "\n",
    "These insights can be valuable for policymakers, farmers, and agricultural organizations like FAO to understand the production landscape and make informed decisions regarding crop planning, market strategies, and agricultural development in the region."
   ]
  },
  {
   "cell_type": "markdown",
   "metadata": {},
   "source": [
    "**Problem 2: Demand and Supply Analysis**\n",
    "\n",
    "- Calculate and analyze demand and supply trends for agricultural products.\n",
    "- Identify regions with shortages or surpluses.\n",
    "- Develop strategies to address imbalances and support stable markets."
   ]
  },
  {
   "cell_type": "code",
   "execution_count": 15,
   "metadata": {},
   "outputs": [
    {
     "data": {
      "image/png": "[encoded data removed]",
      "text/plain": [
       "<Figure size 1200x600 with 1 Axes>"
      ]
     },
     "metadata": {},
     "output_type": "display_data"
    }
   ],
   "source": [
    "# Preprocess the data by mapping non-numeric values to numeric values\n",
    "data['Demand'] = data['Demand'].map({'Low': 1, 'Medium': 2, 'High': 3})\n",
    "data['Supply'] = data['Supply'].map({'Low': 1, 'Medium': 2, 'High': 3})\n",
    "\n",
    "# Calculate and analyze demand and supply trends\n",
    "# Now that the 'Demand' and 'Supply' columns are numeric, you can proceed with the calculation.\n",
    "demand_supply_trends = data.groupby(['Location', 'Crop'])[['Demand', 'Supply']].mean().reset_index()\n",
    "\n",
    "# Identify regions with shortages or surpluses\n",
    "def categorize_shortage_surplus(row):\n",
    "    if row['Demand'] > row['Supply']:\n",
    "        return 'Shortage'\n",
    "    elif row['Demand'] < row['Supply']:\n",
    "        return 'Surplus'\n",
    "    else:\n",
    "        return 'Balanced'\n",
    "\n",
    "demand_supply_trends['Status'] = demand_supply_trends.apply(categorize_shortage_surplus, axis=1)\n",
    "\n",
    "# Develop strategies to address imbalances\n",
    "# Visualize the demand and supply trends\n",
    "plt.figure(figsize=(12, 6))\n",
    "sns.barplot(x='Location', y='Demand', hue='Status', data=demand_supply_trends)\n",
    "plt.xlabel('Location')\n",
    "plt.ylabel('Average Demand')\n",
    "plt.title('Demand and Supply Analysis by Location')\n",
    "plt.xticks(rotation=45)\n",
    "plt.show()\n"
   ]
  },
  {
   "cell_type": "markdown",
   "metadata": {},
   "source": [
    "The visualization you've created represents the analysis of demand and supply trends by location, categorizing them into \"Shortage,\" \"Balanced,\" and \"Surplus.\" Here are the insights you can share:\n",
    "\n",
    "**1. Shortage (Blue):**\n",
    "\n",
    "- Baidoa, Berbera, Jowhar, and Mogadishu are locations where the demand exceeds the supply, indicating a shortage of agricultural products.\n",
    "This shortage may imply potential food security concerns or the need for strategies to increase local production or enhance distribution.\n",
    "\n",
    "**2. Balanced (Orange):**\n",
    "\n",
    "- Beledweyne, Garowe, and Marka are locations where the demand matches the supply, resulting in a balanced situation.\n",
    "These areas seem to have a relatively stable equilibrium between the availability of agricultural products and local demand.\n",
    "\n",
    "**3. Surplus (Green):**\n",
    "\n",
    "- Bosaso is the only location with a surplus, where the supply exceeds the demand. This surplus may present opportunities for trade or distribution to regions experiencing shortages.\n",
    "\n",
    "Overall, the visualization helps identify regions with varying levels of demand and supply imbalances. It provides essential insights for policymakers, agricultural organizations, and businesses to develop targeted strategies for addressing shortages, optimizing resources in balanced regions, and leveraging surpluses to meet regional demands effectively."
   ]
  },
  {
   "cell_type": "markdown",
   "metadata": {},
   "source": [
    "**Problem 4: Weather-Related Risks**\n",
    "\n",
    "- Correlate weather data (temperature and precipitation) with crop yields.\n",
    "- Identify regions prone to weather-related risks."
   ]
  },
  {
   "cell_type": "code",
   "execution_count": 16,
   "metadata": {},
   "outputs": [
    {
     "data": {
      "image/png": "[encoded data removed]",
      "text/plain": [
       "<Figure size 1200x600 with 2 Axes>"
      ]
     },
     "metadata": {},
     "output_type": "display_data"
    }
   ],
   "source": [
    "# Preprocess the temperature and precipitation columns to extract numeric values\n",
    "data['Weather (Temperature)'] = data['Weather (Temperature)'].astype(str).str.extract('(\\d+)').astype(float)\n",
    "data['Weather (Precipitation)'] = data['Weather (Precipitation)'].astype(str).str.extract('(\\d+\\.\\d+)').astype(float)\n",
    "\n",
    "# Correlate weather data with crop yields\n",
    "# Calculate correlations between temperature, precipitation, and crop yields for each location and crop.\n",
    "correlation_data = data.groupby(['Location', 'Crop'])[['Weather (Temperature)', 'Weather (Precipitation)', 'Quantity (kg)']].corr().reset_index()\n",
    "\n",
    "# Identify regions prone to weather-related risks\n",
    "# Identify regions with negative correlations between weather variables and crop yields, indicating weather-related risks.\n",
    "weather_risk_regions = correlation_data[correlation_data['level_2'] == 'Quantity (kg)'].loc[\n",
    "    correlation_data['Quantity (kg)'] < 0, ['Location', 'Crop']]\n",
    "\n",
    "\n",
    "# Visualize the correlations\n",
    "plt.figure(figsize=(12, 6))\n",
    "sns.heatmap(data.pivot_table(index='Location', columns='Crop', values='Weather (Temperature)'),\n",
    "            annot=True, cmap='coolwarm', cbar=True)\n",
    "plt.title('Correlation between Temperature and Crop Yields')\n",
    "plt.show()"
   ]
  },
  {
   "cell_type": "markdown",
   "metadata": {},
   "source": [
    "The above visualization shows that when it's hotter, crops tend to grow better in the regions we studied. This is useful information for planning how to grow crops more effectively. It means that farmers can consider things like when to plant and which crops to choose based on the temperature to get better harvests."
   ]
  },
  {
   "cell_type": "code",
   "execution_count": null,
   "metadata": {},
   "outputs": [],
   "source": []
  },
  {
   "cell_type": "code",
   "execution_count": null,
   "metadata": {},
   "outputs": [],
   "source": []
  },
  {
   "cell_type": "code",
   "execution_count": null,
   "metadata": {},
   "outputs": [],
   "source": []
  },
  {
   "cell_type": "markdown",
   "metadata": {},
   "source": [
    "## **Key Findings and Insights:**\n",
    "\n",
    "**1. Crop Production Trends:**\n",
    "\n",
    "- Rice is the most produced crop with 1200 kgs, followed by Maize and Corn at 1000 kgs and 900 kgs, respectively.\n",
    "Sesame and Sorghum each have production quantities of 800 kgs.\n",
    "Sunflower has the lowest production rate at 300 kgs.\n",
    "\n",
    "**2. Demand and Supply Analysis:**\n",
    "\n",
    "- Regions like Mogadishu, Hargeisa, Kismayo, and Berbera show \"High\" demand for crops, with matching or higher \"Supply.\"\n",
    "- Baidoa and Bosaso exhibit relatively balanced demand and supply.\n",
    "- Hergeisa has \"Medium\" demand and \"High\" supply.\n",
    "- Beledweyne, Garowe, and Marka have \"Low\" demand and supply.\n",
    "\n",
    "**3. Correlation Between Temperature and Crop Yields:**\n",
    "\n",
    "- A positive correlation is observed between temperature and crop yields, indicating that higher temperatures are associated with increased crop production in the analyzed regions.\n",
    "\n",
    "## **Recommendations:**\n",
    "\n",
    "- **Crop Production:** Focus on promoting the production of high-yield crops like Rice and Maize, which can help meet the demand in regions with \"High\" demand levels.\n",
    "\n",
    "- **Market Management:** Implement measures to ensure stable prices and availability of key crops, especially in regions with varying supply and demand.\n",
    "\n",
    "- **Agricultural Planning:** Utilize the positive correlation between temperature and crop yields to optimize planting seasons and crop selection based on regional climate conditions.\n",
    "\n",
    "- **Data Utilization:** Leverage weather data for early warning systems to mitigate weather-related risks, such as droughts and floods, and support farmers in affected regions.\n",
    "\n",
    "## **Conclusion:**\n",
    "The analysis provides valuable insights into crop production trends, demand and supply dynamics, and the influence of temperature on crop yields. FAO can use these insights to enhance food security and agricultural sustainability in Somalia by promoting the production of high-yield crops, ensuring stable market conditions, and implementing climate-smart agriculture practices. Additionally, the organization can use this data for early warning systems to address weather-related risks and support farmers effectively. Accurate and timely data reporting is essential for informed decision-making and efficient resource allocation."
   ]
  }
 ],
 "metadata": {
  "kernelspec": {
   "display_name": "myenv",
   "language": "python",
   "name": "python3"
  },
  "language_info": {
   "codemirror_mode": {
    "name": "ipython",
    "version": 3
   },
   "file_extension": ".py",
   "mimetype": "text/x-python",
   "name": "python",
   "nbconvert_exporter": "python",
   "pygments_lexer": "ipython3",
   "version": "3.11.3"
  },
  "orig_nbformat": 4
 },
 "nbformat": 4,
 "nbformat_minor": 2
}
